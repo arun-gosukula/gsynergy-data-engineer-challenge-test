{
 "cells": [
  {
   "cell_type": "code",
   "execution_count": 0,
   "metadata": {
    "application/vnd.databricks.v1+cell": {
     "cellMetadata": {
      "byteLimit": 2048000,
      "rowLimit": 10000
     },
     "inputWidgets": {},
     "nuid": "cb2fea64-6cc6-4b24-9ac7-46e2c9fd1313",
     "showTitle": false,
     "tableResultSettingsMap": {},
     "title": ""
    }
   },
   "outputs": [
    {
     "output_type": "stream",
     "name": "stdout",
     "output_type": "stream",
     "text": [
      "\n Incoming Incremental Data (new_fact_df):\n+-----------+------+---------+-----------------+------+-----------+-------------+----------------+\n|pos_site_id|sku_id|fsclwk_id|price_substate_id|  type|sales_units|sales_dollars|discount_dollars|\n+-----------+------+---------+-----------------+------+-----------+-------------+----------------+\n|       1001|  A123|   202510|              P01|Online|       10.0|        200.0|            15.0|\n|       1002|  B456|   202510|              P02| Store|        5.0|        100.0|             8.0|\n+-----------+------+---------+-----------------+------+-----------+-------------+----------------+\n\n\n Existing Data in Delta Table (mview_weekly_sales_df):\n+-----------+----------+---------+-----------------+-----------------+-------------------+----------------------+------+\n|pos_site_id|    sku_id|fsclwk_id|price_substate_id|total_sales_units|total_sales_dollars|total_discount_dollars|  type|\n+-----------+----------+---------+-----------------+-----------------+-------------------+----------------------+------+\n|        129|0174450000| 20160201|               FP|              1.0|              28.75|                   0.0|  Sale|\n|    CATMAIN|0403020000| 20160201|               FP|              8.0| 183.59999999999997|                   0.0|  Sale|\n|    CATMAIN|1085190075| 20160202|               FP|              1.0|               75.0|                   0.0|  Sale|\n|        132|0693790000| 20160202|              MD3|              3.0| 38.910000000000004|                   0.0|  Sale|\n|    CATMAIN|2785131701| 20160203|               FP|              1.0|              69.95|                   0.0|  Sale|\n|    CATMAIN|0403081000| 20160203|               FP|             32.0|  734.4000000000001|                   0.0|  Sale|\n|        113|0444790000| 20160203|               FP|              1.0|               16.0|                   0.0|  Sale|\n|    CATMAIN|2230940208| 20160204|               FP|              4.0|             174.61|                 17.19|  Sale|\n|    RTLOPCS|3668931602| 20160204|               FP|              1.0|              58.95|                   0.0|Return|\n|    CATMAIN|2812520701| 20160204|               FP|              2.0|               99.9|                   0.0|Return|\n|        129|0606690996| 20160204|               FP|              1.0|              18.95|                   0.0|  Sale|\n|    RTLOPCS|2893450601| 20160204|               FP|              1.0|              79.95|                   0.0|  Sale|\n|    CATMAIN|6831911800| 20160205|               FP|              7.0| 244.65000000000003|                   0.0|  Sale|\n|        146|0557351000| 20160205|               FP|              1.0|              11.95|                   5.0|  Sale|\n|        140|6402180000| 20160207|               FP|              2.0|               29.9|                   0.0|  Sale|\n|    CATMAIN|2668920701| 20160208|               FP|             12.0|  698.5600000000002|                  8.84|  Sale|\n|    CATMAIN|3840520802| 20160208|               FP|              5.0|             349.75|                   0.0|  Sale|\n|        149|2668940601| 20160210|               FP|              1.0|              58.95|                   0.0|  Sale|\n|    CATMAIN|2785180801| 20160211|               FP|              1.0|              69.95|                   0.0|Return|\n|        134|0403080000| 20160212|               FP|              2.0|              41.31|                  4.59|  Sale|\n+-----------+----------+---------+-----------------+-----------------+-------------------+----------------------+------+\nonly showing top 20 rows\n\n\n Aggregated Incremental Data (updated_mview_df):\n+-----------+------+---------+-----------------+------+---------------+-----------------+--------------------+\n|pos_site_id|sku_id|fsclwk_id|price_substate_id|  type|new_sales_units|new_sales_dollars|new_discount_dollars|\n+-----------+------+---------+-----------------+------+---------------+-----------------+--------------------+\n|       1001|  A123|   202510|              P01|Online|           10.0|            200.0|                15.0|\n|       1002|  B456|   202510|              P02| Store|            5.0|            100.0|                 8.0|\n+-----------+------+---------+-----------------+------+---------------+-----------------+--------------------+\n\n\n Final DataFrame After Incremental Load (final_mview_df):\n+-----------+----------+---------+-----------------+------+-----------------+-------------------+----------------------+\n|pos_site_id|    sku_id|fsclwk_id|price_substate_id|  type|total_sales_units|total_sales_dollars|total_discount_dollars|\n+-----------+----------+---------+-----------------+------+-----------------+-------------------+----------------------+\n|       1002|      B456|   202510|              P02| Store|              5.0|              100.0|                   8.0|\n|        113|0174410000| 20160203|               FP|  Sale|              1.0|              28.75|                   0.0|\n|        113|0174410000| 20160417|               FP|  Sale|              1.0|              28.75|                   0.0|\n|        113|0174410000| 20160524|               FP|  Sale|              1.0|              28.75|                   0.0|\n|        113|0174410000| 20160625|               FP|  Sale|              1.0|              21.56|                  7.19|\n|        113|0174410000| 20160823|               FP|  Sale|              1.0|              28.75|                   0.0|\n|        113|0174410000| 20160927|               FP|  Sale|              1.0|              28.75|                   0.0|\n|        113|0174410000| 20161001|               FP|  Sale|              1.0|              28.75|                   0.0|\n|        113|0174410000| 20161104|               FP|  Sale|              1.0|              28.75|                   0.0|\n|        113|0174410000| 20161217|               FP|  Sale|              1.0|              28.75|                   0.0|\n|        113|0174410000| 20161228|               FP|  Sale|              1.0|              28.75|                   0.0|\n|        113|0174410000| 20170120|               FP|Return|              1.0|              28.75|                   0.0|\n|        113|0174410000| 20170311|               FP|  Sale|              2.0|              47.31|    10.190000000000001|\n|        113|0174410000| 20170508|               FP|  Sale|              1.0|              28.75|                   0.0|\n|        113|0174410000| 20170729|               FP|  Sale|              1.0|              28.75|                   0.0|\n|        113|0174410000| 20170801|               FP|  Sale|              2.0|               51.5|                   6.0|\n|        113|0174410000| 20170808|               FP|  Sale|              2.0|               57.5|                   0.0|\n|        113|0174410000| 20170901|               FP|  Sale|              1.0|              28.75|                   0.0|\n|        113|0174410000| 20171028|               FP|  Sale|              2.0|              37.71|                 19.79|\n|        113|0174410000| 20180301|               FP|  Sale|              1.0|              28.75|                   0.0|\n+-----------+----------+---------+-----------------+------+-----------------+-------------------+----------------------+\nonly showing top 20 rows\n\n\n Incremental Data Added Successfully!\n"
     ]
    }
   ],
   "source": [
    "from pyspark.sql import SparkSession\n",
    "from pyspark.sql.types import StructType, StructField, StringType, DoubleType\n",
    "from pyspark.sql.functions import col, sum, coalesce\n",
    "\n",
    "spark = SparkSession.builder \\\n",
    "    .appName(\"IncrementalLoadGSynergy\") \\\n",
    "    .config(\"spark.databricks.delta.schema.autoMerge.enabled\", \"true\") \\\n",
    "    .enableHiveSupport() \\\n",
    "    .getOrCreate()\n",
    "\n",
    "# Define Schema for Fact Table\n",
    "schema = StructType([\n",
    "    StructField(\"pos_site_id\", StringType(), True),\n",
    "    StructField(\"sku_id\", StringType(), True),\n",
    "    StructField(\"fsclwk_id\", StringType(), True),\n",
    "    StructField(\"price_substate_id\", StringType(), True),\n",
    "    StructField(\"type\", StringType(), True),\n",
    "    StructField(\"sales_units\", DoubleType(), True),\n",
    "    StructField(\"sales_dollars\", DoubleType(), True),\n",
    "    StructField(\"discount_dollars\", DoubleType(), True)\n",
    "])\n",
    "\n",
    "# Load Test Data for Incremental Load\n",
    "new_data = [\n",
    "    (\"1001\", \"A123\", \"202510\", \"P01\", \"Online\", 10.0, 200.0, 15.0),\n",
    "    (\"1002\", \"B456\", \"202510\", \"P02\", \"Store\", 5.0, 100.0, 8.0),  \n",
    "]\n",
    "\n",
    "new_fact_df = spark.createDataFrame(new_data, schema=schema)\n",
    "\n",
    "print(\"\\n Incoming Incremental Data (new_fact_df):\")\n",
    "new_fact_df.show()\n",
    "\n",
    "# Load Existing Data from Delta Table\n",
    "try:\n",
    "    mview_weekly_sales_df = spark.read.format(\"delta\").table(\"gsynergy_db.mview_weekly_sales\")\n",
    "except:\n",
    "    mview_weekly_sales_df = spark.createDataFrame([], schema) \n",
    "\n",
    "print(\"\\n Existing Data in Delta Table (mview_weekly_sales_df):\")\n",
    "mview_weekly_sales_df.show()\n",
    "\n",
    "# Aggregate New Incoming Data for Weekly Totals\n",
    "updated_mview_df = new_fact_df \\\n",
    "    .groupBy(\"pos_site_id\", \"sku_id\", \"fsclwk_id\", \"price_substate_id\", \"type\") \\\n",
    "    .agg(\n",
    "        sum(\"sales_units\").alias(\"new_sales_units\"),\n",
    "        sum(\"sales_dollars\").alias(\"new_sales_dollars\"),\n",
    "        sum(\"discount_dollars\").alias(\"new_discount_dollars\")\n",
    "    )\n",
    "\n",
    "print(\"\\n Aggregated Incremental Data (updated_mview_df):\")\n",
    "updated_mview_df.show()\n",
    "\n",
    "# Merge New Data with Existing Data\n",
    "final_mview_df = mview_weekly_sales_df.alias(\"old\").join(\n",
    "    updated_mview_df.alias(\"new\"),\n",
    "    [\"pos_site_id\", \"sku_id\", \"fsclwk_id\", \"price_substate_id\", \"type\"],\n",
    "    \"outer\"\n",
    ").select(\n",
    "    coalesce(col(\"old.pos_site_id\"), col(\"new.pos_site_id\")).alias(\"pos_site_id\"),\n",
    "    coalesce(col(\"old.sku_id\"), col(\"new.sku_id\")).alias(\"sku_id\"),\n",
    "    coalesce(col(\"old.fsclwk_id\"), col(\"new.fsclwk_id\")).alias(\"fsclwk_id\"),\n",
    "    coalesce(col(\"old.price_substate_id\"), col(\"new.price_substate_id\")).alias(\"price_substate_id\"),\n",
    "    coalesce(col(\"old.type\"), col(\"new.type\")).alias(\"type\"),\n",
    "    (coalesce(col(\"old.total_sales_units\"), col(\"new.new_sales_units\"), col(\"old.total_sales_units\"))).alias(\"total_sales_units\"),\n",
    "    (coalesce(col(\"old.total_sales_dollars\"), col(\"new.new_sales_dollars\"), col(\"old.total_sales_dollars\"))).alias(\"total_sales_dollars\"),\n",
    "    (coalesce(col(\"old.total_discount_dollars\"), col(\"new.new_discount_dollars\"), col(\"old.total_discount_dollars\"))).alias(\"total_discount_dollars\")\n",
    ")\n",
    "\n",
    "print(\"\\n Final DataFrame After Incremental Load (final_mview_df):\")\n",
    "final_mview_df.show()\n",
    "\n",
    "# Write Final Data Back to Delta Table with Schema Evolution Enabled\n",
    "final_mview_df.write \\\n",
    "    .format(\"delta\") \\\n",
    "    .mode(\"overwrite\") \\\n",
    "    .option(\"mergeSchema\", \"true\") \\\n",
    "    .saveAsTable(\"gsynergy_db.mview_weekly_sales\")\n",
    "\n",
    "print(\"\\n Incremental Data Added Successfully!\")\n"
   ]
  }
 ],
 "metadata": {
  "application/vnd.databricks.v1+notebook": {
   "computePreferences": null,
   "dashboards": [],
   "environmentMetadata": {
    "base_environment": "",
    "environment_version": "2"
   },
   "language": "python",
   "notebookMetadata": {
    "pythonIndentUnit": 4
   },
   "notebookName": "3.Incremental_load",
   "widgets": {}
  },
  "language_info": {
   "name": "python"
  }
 },
 "nbformat": 4,
 "nbformat_minor": 0
}